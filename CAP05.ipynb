{
 "cells": [
  {
   "cell_type": "markdown",
   "id": "d2cee60e",
   "metadata": {},
   "source": [
    "## Fazendo uma limpeza nos dados\n",
    "\n",
    "Ferramentas genéricas como o pandas e ferramentas especializadas como o pyjanitor podem ser usadas para ajudar na \n",
    "limpeza dos dados."
   ]
  },
  {
   "cell_type": "markdown",
   "id": "35676bc9",
   "metadata": {},
   "source": [
    "##### Nomes das colunas \n",
    "\n",
    "Ao usar o pandas, ter nomes de colunas apropriadadas para Python torna possível o acesso aos atributos. A função\n",
    "\"clean_names\" d pyjanitor devolverá um DataFrame com as colunas em letras minúsculas e os espaços substituídos por\n",
    "underscores:"
   ]
  },
  {
   "cell_type": "code",
   "execution_count": 1,
   "id": "2bf03903",
   "metadata": {},
   "outputs": [],
   "source": [
    "import pandas as pd\n",
    "\n",
    "# Caminho em Pasta\n",
    "path = \"datasets/titanic/titanic3.xls\"\n",
    "df = pd.read_excel(path)"
   ]
  },
  {
   "cell_type": "code",
   "execution_count": 2,
   "id": "0867ed2c",
   "metadata": {},
   "outputs": [
    {
     "data": {
      "text/html": [
       "<div>\n",
       "<style scoped>\n",
       "    .dataframe tbody tr th:only-of-type {\n",
       "        vertical-align: middle;\n",
       "    }\n",
       "\n",
       "    .dataframe tbody tr th {\n",
       "        vertical-align: top;\n",
       "    }\n",
       "\n",
       "    .dataframe thead th {\n",
       "        text-align: right;\n",
       "    }\n",
       "</style>\n",
       "<table border=\"1\" class=\"dataframe\">\n",
       "  <thead>\n",
       "    <tr style=\"text-align: right;\">\n",
       "      <th></th>\n",
       "      <th>a</th>\n",
       "      <th>_sales_numbers_</th>\n",
       "    </tr>\n",
       "  </thead>\n",
       "  <tbody>\n",
       "    <tr>\n",
       "      <th>0</th>\n",
       "      <td>1.0</td>\n",
       "      <td>20.0</td>\n",
       "    </tr>\n",
       "    <tr>\n",
       "      <th>1</th>\n",
       "      <td>NaN</td>\n",
       "      <td>30.0</td>\n",
       "    </tr>\n",
       "    <tr>\n",
       "      <th>2</th>\n",
       "      <td>3.0</td>\n",
       "      <td>NaN</td>\n",
       "    </tr>\n",
       "  </tbody>\n",
       "</table>\n",
       "</div>"
      ],
      "text/plain": [
       "     a  _sales_numbers_\n",
       "0  1.0             20.0\n",
       "1  NaN             30.0\n",
       "2  3.0              NaN"
      ]
     },
     "execution_count": 2,
     "metadata": {},
     "output_type": "execute_result"
    }
   ],
   "source": [
    "import janitor as jn\n",
    "\n",
    "Xbad = pd.DataFrame(\n",
    "    {\n",
    "        \"A\": [1, None, 3],\n",
    "        \"  sales numbers \": [20.0, 30.0, None],\n",
    "    }\n",
    ")\n",
    "jn.clean_names(Xbad)"
   ]
  },
  {
   "cell_type": "markdown",
   "id": "197fd701",
   "metadata": {},
   "source": [
    "##### A biblioteca pyjanitor é conveniente, mas não nos permite remover espaços em branco em torno das colunas."
   ]
  },
  {
   "cell_type": "code",
   "execution_count": 3,
   "id": "4619c5a3",
   "metadata": {},
   "outputs": [
    {
     "data": {
      "text/html": [
       "<div>\n",
       "<style scoped>\n",
       "    .dataframe tbody tr th:only-of-type {\n",
       "        vertical-align: middle;\n",
       "    }\n",
       "\n",
       "    .dataframe tbody tr th {\n",
       "        vertical-align: top;\n",
       "    }\n",
       "\n",
       "    .dataframe thead th {\n",
       "        text-align: right;\n",
       "    }\n",
       "</style>\n",
       "<table border=\"1\" class=\"dataframe\">\n",
       "  <thead>\n",
       "    <tr style=\"text-align: right;\">\n",
       "      <th></th>\n",
       "      <th>a</th>\n",
       "      <th>sales_numbers</th>\n",
       "    </tr>\n",
       "  </thead>\n",
       "  <tbody>\n",
       "    <tr>\n",
       "      <th>0</th>\n",
       "      <td>1.0</td>\n",
       "      <td>20.0</td>\n",
       "    </tr>\n",
       "    <tr>\n",
       "      <th>1</th>\n",
       "      <td>NaN</td>\n",
       "      <td>30.0</td>\n",
       "    </tr>\n",
       "    <tr>\n",
       "      <th>2</th>\n",
       "      <td>3.0</td>\n",
       "      <td>NaN</td>\n",
       "    </tr>\n",
       "  </tbody>\n",
       "</table>\n",
       "</div>"
      ],
      "text/plain": [
       "     a  sales_numbers\n",
       "0  1.0           20.0\n",
       "1  NaN           30.0\n",
       "2  3.0            NaN"
      ]
     },
     "execution_count": 3,
     "metadata": {},
     "output_type": "execute_result"
    }
   ],
   "source": [
    "# Podemos usar o pandas para ter um controle mais minucioso ao renomear as colunas:\n",
    "def clean_col(name):\n",
    "    return (\n",
    "        name.strip().lower().replace(\" \",\"_\")\n",
    "    )\n",
    "\n",
    "Xbad.rename(columns=clean_col)"
   ]
  },
  {
   "cell_type": "markdown",
   "id": "2e3d1b4d",
   "metadata": {},
   "source": [
    "##### Substituindo valores ausentes\n",
    "\n",
    "A função coalesce do pyjanitor recebe um DataFrame e uma lista de colunas para serem consideradas. Essa é uma \n",
    "funcionalidade semelhante áquela que vemos no Excel e em bancos de dados SQL.Ela devolve o primeiro valor não nulo\n",
    "para cada linha."
   ]
  },
  {
   "cell_type": "code",
   "execution_count": 4,
   "id": "52d112c5",
   "metadata": {},
   "outputs": [
    {
     "data": {
      "text/html": [
       "<div>\n",
       "<style scoped>\n",
       "    .dataframe tbody tr th:only-of-type {\n",
       "        vertical-align: middle;\n",
       "    }\n",
       "\n",
       "    .dataframe tbody tr th {\n",
       "        vertical-align: top;\n",
       "    }\n",
       "\n",
       "    .dataframe thead th {\n",
       "        text-align: right;\n",
       "    }\n",
       "</style>\n",
       "<table border=\"1\" class=\"dataframe\">\n",
       "  <thead>\n",
       "    <tr style=\"text-align: right;\">\n",
       "      <th></th>\n",
       "      <th>A</th>\n",
       "      <th>sales numbers</th>\n",
       "      <th>val</th>\n",
       "    </tr>\n",
       "  </thead>\n",
       "  <tbody>\n",
       "    <tr>\n",
       "      <th>0</th>\n",
       "      <td>1.0</td>\n",
       "      <td>20.0</td>\n",
       "      <td>1.0</td>\n",
       "    </tr>\n",
       "    <tr>\n",
       "      <th>1</th>\n",
       "      <td>NaN</td>\n",
       "      <td>30.0</td>\n",
       "      <td>30.0</td>\n",
       "    </tr>\n",
       "    <tr>\n",
       "      <th>2</th>\n",
       "      <td>3.0</td>\n",
       "      <td>NaN</td>\n",
       "      <td>3.0</td>\n",
       "    </tr>\n",
       "  </tbody>\n",
       "</table>\n",
       "</div>"
      ],
      "text/plain": [
       "     A    sales numbers    val\n",
       "0  1.0              20.0   1.0\n",
       "1  NaN              30.0  30.0\n",
       "2  3.0               NaN   3.0"
      ]
     },
     "execution_count": 4,
     "metadata": {},
     "output_type": "execute_result"
    }
   ],
   "source": [
    "jn.coalesce(\n",
    "    Xbad, \n",
    "    \"A\", \"  sales numbers \", \n",
    "    target_column_name=\"val\",\n",
    ")\n"
   ]
  },
  {
   "cell_type": "markdown",
   "id": "f406b745",
   "metadata": {},
   "source": [
    "##### Se quisermos substituir os valores ausentes por um valor específico, podemos usar o método .fillna do DataFrame"
   ]
  },
  {
   "cell_type": "code",
   "execution_count": 5,
   "id": "f792ef44",
   "metadata": {},
   "outputs": [
    {
     "data": {
      "text/html": [
       "<div>\n",
       "<style scoped>\n",
       "    .dataframe tbody tr th:only-of-type {\n",
       "        vertical-align: middle;\n",
       "    }\n",
       "\n",
       "    .dataframe tbody tr th {\n",
       "        vertical-align: top;\n",
       "    }\n",
       "\n",
       "    .dataframe thead th {\n",
       "        text-align: right;\n",
       "    }\n",
       "</style>\n",
       "<table border=\"1\" class=\"dataframe\">\n",
       "  <thead>\n",
       "    <tr style=\"text-align: right;\">\n",
       "      <th></th>\n",
       "      <th>A</th>\n",
       "      <th>sales numbers</th>\n",
       "    </tr>\n",
       "  </thead>\n",
       "  <tbody>\n",
       "    <tr>\n",
       "      <th>0</th>\n",
       "      <td>1.0</td>\n",
       "      <td>20.0</td>\n",
       "    </tr>\n",
       "    <tr>\n",
       "      <th>1</th>\n",
       "      <td>10.0</td>\n",
       "      <td>30.0</td>\n",
       "    </tr>\n",
       "    <tr>\n",
       "      <th>2</th>\n",
       "      <td>3.0</td>\n",
       "      <td>10.0</td>\n",
       "    </tr>\n",
       "  </tbody>\n",
       "</table>\n",
       "</div>"
      ],
      "text/plain": [
       "      A    sales numbers \n",
       "0   1.0              20.0\n",
       "1  10.0              30.0\n",
       "2   3.0              10.0"
      ]
     },
     "execution_count": 5,
     "metadata": {},
     "output_type": "execute_result"
    }
   ],
   "source": [
    "Xbad.fillna(10)"
   ]
  },
  {
   "cell_type": "code",
   "execution_count": 6,
   "id": "2ada47ad",
   "metadata": {},
   "outputs": [
    {
     "data": {
      "text/html": [
       "<div>\n",
       "<style scoped>\n",
       "    .dataframe tbody tr th:only-of-type {\n",
       "        vertical-align: middle;\n",
       "    }\n",
       "\n",
       "    .dataframe tbody tr th {\n",
       "        vertical-align: top;\n",
       "    }\n",
       "\n",
       "    .dataframe thead th {\n",
       "        text-align: right;\n",
       "    }\n",
       "</style>\n",
       "<table border=\"1\" class=\"dataframe\">\n",
       "  <thead>\n",
       "    <tr style=\"text-align: right;\">\n",
       "      <th></th>\n",
       "      <th>A</th>\n",
       "      <th>sales numbers</th>\n",
       "    </tr>\n",
       "  </thead>\n",
       "  <tbody>\n",
       "    <tr>\n",
       "      <th>0</th>\n",
       "      <td>1.0</td>\n",
       "      <td>20.0</td>\n",
       "    </tr>\n",
       "    <tr>\n",
       "      <th>1</th>\n",
       "      <td>10.0</td>\n",
       "      <td>30.0</td>\n",
       "    </tr>\n",
       "    <tr>\n",
       "      <th>2</th>\n",
       "      <td>3.0</td>\n",
       "      <td>10.0</td>\n",
       "    </tr>\n",
       "  </tbody>\n",
       "</table>\n",
       "</div>"
      ],
      "text/plain": [
       "      A    sales numbers \n",
       "0   1.0              20.0\n",
       "1  10.0              30.0\n",
       "2   3.0              10.0"
      ]
     },
     "execution_count": 6,
     "metadata": {},
     "output_type": "execute_result"
    }
   ],
   "source": [
    "# ou a função fill_empty do pyjanitor:\n",
    "\n",
    "jn.fill_empty(\n",
    "    Xbad, \n",
    "    column_names = ['A', '  sales numbers '],\n",
    "    value = 10,\n",
    ")"
   ]
  },
  {
   "cell_type": "markdown",
   "id": "1ae3f8bb",
   "metadata": {},
   "source": [
    "##### Pode usar o pandas para garantir que todos os valores ausentes foram tratados. \n",
    "\n",
    "O código a seguir devolve um único booleano para informar se há alguma célula com valor ausente em um DataFrame"
   ]
  },
  {
   "cell_type": "code",
   "execution_count": 7,
   "id": "c80eaa56",
   "metadata": {},
   "outputs": [
    {
     "data": {
      "text/plain": [
       "True"
      ]
     },
     "execution_count": 7,
     "metadata": {},
     "output_type": "execute_result"
    }
   ],
   "source": [
    "df.isna().any().any()"
   ]
  }
 ],
 "metadata": {
  "kernelspec": {
   "display_name": "Python 3 (ipykernel)",
   "language": "python",
   "name": "python3"
  },
  "language_info": {
   "codemirror_mode": {
    "name": "ipython",
    "version": 3
   },
   "file_extension": ".py",
   "mimetype": "text/x-python",
   "name": "python",
   "nbconvert_exporter": "python",
   "pygments_lexer": "ipython3",
   "version": "3.9.13"
  }
 },
 "nbformat": 4,
 "nbformat_minor": 5
}
