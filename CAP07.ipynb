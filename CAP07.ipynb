{
 "cells": [
  {
   "cell_type": "markdown",
   "id": "5bd07ce2",
   "metadata": {},
   "source": [
    "# Capítulo 7 - Pré-processamento dos dados\n",
    "\n",
    "Nesse capítulo, exploraremos os passos comuns de pré-processamento de dados com os dados a seguir:"
   ]
  },
  {
   "cell_type": "code",
   "execution_count": 1,
   "id": "5d5af61e",
   "metadata": {},
   "outputs": [],
   "source": [
    "#!pip install pyjanitor"
   ]
  },
  {
   "cell_type": "code",
   "execution_count": 2,
   "id": "09bb793c",
   "metadata": {},
   "outputs": [],
   "source": [
    "# Importar as bibliotecas do capítulo \n",
    "import pandas as pd\n",
    "import janitor as jn"
   ]
  },
  {
   "cell_type": "code",
   "execution_count": 3,
   "id": "983f9b5f",
   "metadata": {},
   "outputs": [
    {
     "data": {
      "text/html": [
       "<div>\n",
       "<style scoped>\n",
       "    .dataframe tbody tr th:only-of-type {\n",
       "        vertical-align: middle;\n",
       "    }\n",
       "\n",
       "    .dataframe tbody tr th {\n",
       "        vertical-align: top;\n",
       "    }\n",
       "\n",
       "    .dataframe thead th {\n",
       "        text-align: right;\n",
       "    }\n",
       "</style>\n",
       "<table border=\"1\" class=\"dataframe\">\n",
       "  <thead>\n",
       "    <tr style=\"text-align: right;\">\n",
       "      <th></th>\n",
       "      <th>a</th>\n",
       "      <th>b</th>\n",
       "    </tr>\n",
       "  </thead>\n",
       "  <tbody>\n",
       "    <tr>\n",
       "      <th>0</th>\n",
       "      <td>0</td>\n",
       "      <td>-100</td>\n",
       "    </tr>\n",
       "    <tr>\n",
       "      <th>1</th>\n",
       "      <td>1</td>\n",
       "      <td>-50</td>\n",
       "    </tr>\n",
       "    <tr>\n",
       "      <th>2</th>\n",
       "      <td>2</td>\n",
       "      <td>0</td>\n",
       "    </tr>\n",
       "    <tr>\n",
       "      <th>3</th>\n",
       "      <td>3</td>\n",
       "      <td>200</td>\n",
       "    </tr>\n",
       "    <tr>\n",
       "      <th>4</th>\n",
       "      <td>4</td>\n",
       "      <td>1000</td>\n",
       "    </tr>\n",
       "  </tbody>\n",
       "</table>\n",
       "</div>"
      ],
      "text/plain": [
       "   a     b\n",
       "0  0  -100\n",
       "1  1   -50\n",
       "2  2     0\n",
       "3  3   200\n",
       "4  4  1000"
      ]
     },
     "execution_count": 3,
     "metadata": {},
     "output_type": "execute_result"
    }
   ],
   "source": [
    "X2 = pd.DataFrame(\n",
    "    {\n",
    "        \"a\":range(5),\n",
    "        \"b\": [-100, -50, 0, 200, 1000]\n",
    "    }\n",
    ")\n",
    "X2"
   ]
  },
  {
   "cell_type": "markdown",
   "id": "df105e76",
   "metadata": {},
   "source": [
    "### Padronize os dados\n",
    "\n",
    "Alguns algoritmos, como o SVM, apresentam melhor desempenho quando os dados estão padronizados. Cada coluna deve ter um valor de média igual a zero e um desvio-padrão igual a 1. O sklearn disponibiliza um método \".fit_transform\" que combina \".fit\" e \".transform\":"
   ]
  },
  {
   "cell_type": "code",
   "execution_count": 4,
   "id": "be3d3f81",
   "metadata": {},
   "outputs": [
    {
     "data": {
      "text/plain": [
       "array([[-1.41421356, -0.75995002],\n",
       "       [-0.70710678, -0.63737744],\n",
       "       [ 0.        , -0.51480485],\n",
       "       [ 0.70710678, -0.02451452],\n",
       "       [ 1.41421356,  1.93664683]])"
      ]
     },
     "execution_count": 4,
     "metadata": {},
     "output_type": "execute_result"
    }
   ],
   "source": [
    "from sklearn import preprocessing\n",
    "std = preprocessing.StandardScaler()\n",
    "std.fit_transform(X2)"
   ]
  },
  {
   "cell_type": "markdown",
   "id": "fa29c386",
   "metadata": {},
   "source": [
    "Após a adequação dos dados, há diversos atributos que podemos inspecionar:"
   ]
  },
  {
   "cell_type": "code",
   "execution_count": 5,
   "id": "b7788f4c",
   "metadata": {},
   "outputs": [
    {
     "data": {
      "text/plain": [
       "array([  1.41421356, 407.92156109])"
      ]
     },
     "execution_count": 5,
     "metadata": {},
     "output_type": "execute_result"
    }
   ],
   "source": [
    "std.scale_"
   ]
  },
  {
   "cell_type": "code",
   "execution_count": 6,
   "id": "b0d653cf",
   "metadata": {},
   "outputs": [
    {
     "data": {
      "text/plain": [
       "array([  2., 210.])"
      ]
     },
     "execution_count": 6,
     "metadata": {},
     "output_type": "execute_result"
    }
   ],
   "source": [
    "std.mean_"
   ]
  },
  {
   "cell_type": "code",
   "execution_count": 7,
   "id": "8ef37050",
   "metadata": {},
   "outputs": [
    {
     "data": {
      "text/plain": [
       "array([2.000e+00, 1.664e+05])"
      ]
     },
     "execution_count": 7,
     "metadata": {},
     "output_type": "execute_result"
    }
   ],
   "source": [
    "std.var_"
   ]
  },
  {
   "cell_type": "markdown",
   "id": "cbce40d2",
   "metadata": {},
   "source": [
    "A seguir, apresentamos uma versão com o pandas. Lembrando de que deverá manter o controle da média e do desvio-padrão originais caso use esse código no pré-processamento. Qualquer amostra que vá usar para predições mais tarde deverá ser padronizada com esses mesmos valores:"
   ]
  },
  {
   "cell_type": "code",
   "execution_count": 8,
   "id": "288432fe",
   "metadata": {},
   "outputs": [
    {
     "data": {
      "text/html": [
       "<div>\n",
       "<style scoped>\n",
       "    .dataframe tbody tr th:only-of-type {\n",
       "        vertical-align: middle;\n",
       "    }\n",
       "\n",
       "    .dataframe tbody tr th {\n",
       "        vertical-align: top;\n",
       "    }\n",
       "\n",
       "    .dataframe thead th {\n",
       "        text-align: right;\n",
       "    }\n",
       "</style>\n",
       "<table border=\"1\" class=\"dataframe\">\n",
       "  <thead>\n",
       "    <tr style=\"text-align: right;\">\n",
       "      <th></th>\n",
       "      <th>a</th>\n",
       "      <th>b</th>\n",
       "    </tr>\n",
       "  </thead>\n",
       "  <tbody>\n",
       "    <tr>\n",
       "      <th>0</th>\n",
       "      <td>-1.264911</td>\n",
       "      <td>-0.679720</td>\n",
       "    </tr>\n",
       "    <tr>\n",
       "      <th>1</th>\n",
       "      <td>-0.632456</td>\n",
       "      <td>-0.570088</td>\n",
       "    </tr>\n",
       "    <tr>\n",
       "      <th>2</th>\n",
       "      <td>0.000000</td>\n",
       "      <td>-0.460455</td>\n",
       "    </tr>\n",
       "    <tr>\n",
       "      <th>3</th>\n",
       "      <td>0.632456</td>\n",
       "      <td>-0.021926</td>\n",
       "    </tr>\n",
       "    <tr>\n",
       "      <th>4</th>\n",
       "      <td>1.264911</td>\n",
       "      <td>1.732190</td>\n",
       "    </tr>\n",
       "  </tbody>\n",
       "</table>\n",
       "</div>"
      ],
      "text/plain": [
       "          a         b\n",
       "0 -1.264911 -0.679720\n",
       "1 -0.632456 -0.570088\n",
       "2  0.000000 -0.460455\n",
       "3  0.632456 -0.021926\n",
       "4  1.264911  1.732190"
      ]
     },
     "execution_count": 8,
     "metadata": {},
     "output_type": "execute_result"
    }
   ],
   "source": [
    "X_std = (X2 - X2.mean()) / X2.std()\n",
    "X_std"
   ]
  },
  {
   "cell_type": "code",
   "execution_count": 9,
   "id": "d5796628",
   "metadata": {},
   "outputs": [
    {
     "data": {
      "text/plain": [
       "a    4.440892e-17\n",
       "b    0.000000e+00\n",
       "dtype: float64"
      ]
     },
     "execution_count": 9,
     "metadata": {},
     "output_type": "execute_result"
    }
   ],
   "source": [
    "X_std.mean()"
   ]
  },
  {
   "cell_type": "code",
   "execution_count": 10,
   "id": "97d21cda",
   "metadata": {},
   "outputs": [
    {
     "data": {
      "text/plain": [
       "a    1.0\n",
       "b    1.0\n",
       "dtype: float64"
      ]
     },
     "execution_count": 10,
     "metadata": {},
     "output_type": "execute_result"
    }
   ],
   "source": [
    "X_std.std()"
   ]
  },
  {
   "cell_type": "markdown",
   "id": "458cf11e",
   "metadata": {},
   "source": [
    "### Escale para un intervalo\n",
    "\n",
    "Escalar para um intervalo consiste em traduzir os dados de modo que estejam entre 0 e 1, inclusive. Ter os dados limitados pode ser conveniente. No entanto, se houver valores discrepantes, tome cuidado ao usar esse recurso."
   ]
  },
  {
   "cell_type": "code",
   "execution_count": 11,
   "id": "3494fbec",
   "metadata": {},
   "outputs": [
    {
     "data": {
      "text/plain": [
       "array([[0.        , 0.        ],\n",
       "       [0.25      , 0.04545455],\n",
       "       [0.5       , 0.09090909],\n",
       "       [0.75      , 0.27272727],\n",
       "       [1.        , 1.        ]])"
      ]
     },
     "execution_count": 11,
     "metadata": {},
     "output_type": "execute_result"
    }
   ],
   "source": [
    "from sklearn import preprocessing\n",
    "mms = preprocessing.MinMaxScaler()\n",
    "mms.fit(X2)\n",
    "mms.transform(X2)"
   ]
  },
  {
   "cell_type": "markdown",
   "id": "8fc959ae",
   "metadata": {},
   "source": [
    "Eis uma versão com o pandas"
   ]
  },
  {
   "cell_type": "code",
   "execution_count": 12,
   "id": "4ac137f8",
   "metadata": {},
   "outputs": [
    {
     "data": {
      "text/html": [
       "<div>\n",
       "<style scoped>\n",
       "    .dataframe tbody tr th:only-of-type {\n",
       "        vertical-align: middle;\n",
       "    }\n",
       "\n",
       "    .dataframe tbody tr th {\n",
       "        vertical-align: top;\n",
       "    }\n",
       "\n",
       "    .dataframe thead th {\n",
       "        text-align: right;\n",
       "    }\n",
       "</style>\n",
       "<table border=\"1\" class=\"dataframe\">\n",
       "  <thead>\n",
       "    <tr style=\"text-align: right;\">\n",
       "      <th></th>\n",
       "      <th>a</th>\n",
       "      <th>b</th>\n",
       "    </tr>\n",
       "  </thead>\n",
       "  <tbody>\n",
       "    <tr>\n",
       "      <th>0</th>\n",
       "      <td>0.00</td>\n",
       "      <td>0.000000</td>\n",
       "    </tr>\n",
       "    <tr>\n",
       "      <th>1</th>\n",
       "      <td>0.25</td>\n",
       "      <td>0.045455</td>\n",
       "    </tr>\n",
       "    <tr>\n",
       "      <th>2</th>\n",
       "      <td>0.50</td>\n",
       "      <td>0.090909</td>\n",
       "    </tr>\n",
       "    <tr>\n",
       "      <th>3</th>\n",
       "      <td>0.75</td>\n",
       "      <td>0.272727</td>\n",
       "    </tr>\n",
       "    <tr>\n",
       "      <th>4</th>\n",
       "      <td>1.00</td>\n",
       "      <td>1.000000</td>\n",
       "    </tr>\n",
       "  </tbody>\n",
       "</table>\n",
       "</div>"
      ],
      "text/plain": [
       "      a         b\n",
       "0  0.00  0.000000\n",
       "1  0.25  0.045455\n",
       "2  0.50  0.090909\n",
       "3  0.75  0.272727\n",
       "4  1.00  1.000000"
      ]
     },
     "execution_count": 12,
     "metadata": {},
     "output_type": "execute_result"
    }
   ],
   "source": [
    "(X2 - X2.min()) / (X2.max() - X2.min())"
   ]
  },
  {
   "cell_type": "markdown",
   "id": "64a34462",
   "metadata": {},
   "source": [
    "### Variáveis dummy\n",
    "\n",
    "Podemos usar o pandas para criar variáveis dummy a partir de dados de categoria. Esse procedimento é também conhecido como codificação one-hot (one-hot encoding) ou codificação de indicadores (indicator encoding). Variáveis dummy são particularmente úteis caso os dados sejam nominais (não ordenados). A função \"get_dummies\" do pandas cria várias colunas para uma coluna de categorias, cada uma contendo 1 ou 0 de acordo com o fato de a coluna original ter a respectiva categoria"
   ]
  },
  {
   "cell_type": "code",
   "execution_count": 13,
   "id": "aa49e16f",
   "metadata": {},
   "outputs": [
    {
     "data": {
      "text/html": [
       "<div>\n",
       "<style scoped>\n",
       "    .dataframe tbody tr th:only-of-type {\n",
       "        vertical-align: middle;\n",
       "    }\n",
       "\n",
       "    .dataframe tbody tr th {\n",
       "        vertical-align: top;\n",
       "    }\n",
       "\n",
       "    .dataframe thead th {\n",
       "        text-align: right;\n",
       "    }\n",
       "</style>\n",
       "<table border=\"1\" class=\"dataframe\">\n",
       "  <thead>\n",
       "    <tr style=\"text-align: right;\">\n",
       "      <th></th>\n",
       "      <th>name</th>\n",
       "      <th>inst</th>\n",
       "    </tr>\n",
       "  </thead>\n",
       "  <tbody>\n",
       "    <tr>\n",
       "      <th>0</th>\n",
       "      <td>George</td>\n",
       "      <td>Bass</td>\n",
       "    </tr>\n",
       "    <tr>\n",
       "      <th>1</th>\n",
       "      <td>Paul</td>\n",
       "      <td>Guitar</td>\n",
       "    </tr>\n",
       "  </tbody>\n",
       "</table>\n",
       "</div>"
      ],
      "text/plain": [
       "     name    inst\n",
       "0  George    Bass\n",
       "1    Paul  Guitar"
      ]
     },
     "execution_count": 13,
     "metadata": {},
     "output_type": "execute_result"
    }
   ],
   "source": [
    "X_cat = pd.DataFrame(\n",
    "    {\n",
    "        \"name\":[\"George\", \"Paul\"],\n",
    "        \"inst\": [\"Bass\", \"Guitar\"],\n",
    "    }\n",
    ")\n",
    "X_cat"
   ]
  },
  {
   "cell_type": "markdown",
   "id": "edd4e8da",
   "metadata": {},
   "source": [
    "A seguir apresentamos uma versão com o pandas. Observe que a opção \"drop_first\" pode ser usada para eliminar uma coluna (uma das colunas dummy é uma combinação linear das demais colunas):"
   ]
  },
  {
   "cell_type": "code",
   "execution_count": 14,
   "id": "dc77c800",
   "metadata": {},
   "outputs": [
    {
     "data": {
      "text/html": [
       "<div>\n",
       "<style scoped>\n",
       "    .dataframe tbody tr th:only-of-type {\n",
       "        vertical-align: middle;\n",
       "    }\n",
       "\n",
       "    .dataframe tbody tr th {\n",
       "        vertical-align: top;\n",
       "    }\n",
       "\n",
       "    .dataframe thead th {\n",
       "        text-align: right;\n",
       "    }\n",
       "</style>\n",
       "<table border=\"1\" class=\"dataframe\">\n",
       "  <thead>\n",
       "    <tr style=\"text-align: right;\">\n",
       "      <th></th>\n",
       "      <th>name_Paul</th>\n",
       "      <th>inst_Guitar</th>\n",
       "    </tr>\n",
       "  </thead>\n",
       "  <tbody>\n",
       "    <tr>\n",
       "      <th>0</th>\n",
       "      <td>0</td>\n",
       "      <td>0</td>\n",
       "    </tr>\n",
       "    <tr>\n",
       "      <th>1</th>\n",
       "      <td>1</td>\n",
       "      <td>1</td>\n",
       "    </tr>\n",
       "  </tbody>\n",
       "</table>\n",
       "</div>"
      ],
      "text/plain": [
       "   name_Paul  inst_Guitar\n",
       "0          0            0\n",
       "1          1            1"
      ]
     },
     "execution_count": 14,
     "metadata": {},
     "output_type": "execute_result"
    }
   ],
   "source": [
    "pd.get_dummies(X_cat, drop_first=True)"
   ]
  },
  {
   "cell_type": "markdown",
   "id": "248bd877",
   "metadata": {},
   "source": [
    "A biblioteca pyjanitor também pode separar colunas com a função \"expand_column\":"
   ]
  },
  {
   "cell_type": "code",
   "execution_count": 15,
   "id": "9993ef33",
   "metadata": {},
   "outputs": [
    {
     "data": {
      "text/html": [
       "<div>\n",
       "<style scoped>\n",
       "    .dataframe tbody tr th:only-of-type {\n",
       "        vertical-align: middle;\n",
       "    }\n",
       "\n",
       "    .dataframe tbody tr th {\n",
       "        vertical-align: top;\n",
       "    }\n",
       "\n",
       "    .dataframe thead th {\n",
       "        text-align: right;\n",
       "    }\n",
       "</style>\n",
       "<table border=\"1\" class=\"dataframe\">\n",
       "  <thead>\n",
       "    <tr style=\"text-align: right;\">\n",
       "      <th></th>\n",
       "      <th>A</th>\n",
       "      <th>names</th>\n",
       "      <th>George</th>\n",
       "      <th>Paul</th>\n",
       "      <th>Fred</th>\n",
       "      <th>George</th>\n",
       "      <th>John</th>\n",
       "    </tr>\n",
       "  </thead>\n",
       "  <tbody>\n",
       "    <tr>\n",
       "      <th>0</th>\n",
       "      <td>1.0</td>\n",
       "      <td>Fred, George</td>\n",
       "      <td>1</td>\n",
       "      <td>0</td>\n",
       "      <td>1</td>\n",
       "      <td>0</td>\n",
       "      <td>0</td>\n",
       "    </tr>\n",
       "    <tr>\n",
       "      <th>1</th>\n",
       "      <td>NaN</td>\n",
       "      <td>George</td>\n",
       "      <td>0</td>\n",
       "      <td>0</td>\n",
       "      <td>0</td>\n",
       "      <td>1</td>\n",
       "      <td>0</td>\n",
       "    </tr>\n",
       "    <tr>\n",
       "      <th>2</th>\n",
       "      <td>3.0</td>\n",
       "      <td>John, Paul</td>\n",
       "      <td>0</td>\n",
       "      <td>1</td>\n",
       "      <td>0</td>\n",
       "      <td>0</td>\n",
       "      <td>1</td>\n",
       "    </tr>\n",
       "  </tbody>\n",
       "</table>\n",
       "</div>"
      ],
      "text/plain": [
       "     A         names   George   Paul  Fred  George  John\n",
       "0  1.0  Fred, George        1      0     1       0     0\n",
       "1  NaN        George        0      0     0       1     0\n",
       "2  3.0    John, Paul        0      1     0       0     1"
      ]
     },
     "execution_count": 15,
     "metadata": {},
     "output_type": "execute_result"
    }
   ],
   "source": [
    "X_cat2 = pd.DataFrame(\n",
    "    {\n",
    "        \"A\":[1, None, 3],\n",
    "        \"names\": [\n",
    "            \"Fred, George\",\n",
    "            \"George\",\n",
    "            \"John, Paul\",\n",
    "        ],\n",
    "    }\n",
    ")\n",
    "jn.expand_column(X_cat2, \"names\", sep=\",\")"
   ]
  },
  {
   "cell_type": "markdown",
   "id": "2c855523",
   "metadata": {},
   "source": [
    "Se tivermos dados nominais com alta cardinalidade, podemos usar uma codificação de rótulos(label encoding)."
   ]
  },
  {
   "cell_type": "markdown",
   "id": "6188fd41",
   "metadata": {},
   "source": [
    "### Codificador de rótulos\n",
    "\n",
    "Uma alternativa à codificação de variáveis dummy é a codificação de rótulos. Nesse caso, cada dado de categoria será atribuído a um número.É um método conveniente para dados com alta cardinalidade. Esse codificador impõe uma ordem, que poderá ser ou não desejável. Menos espaço poderá ser ocupado em comparação com uma codificação one-hot, e alguns algoritmos (de árvores) são capazes de lidar com essa codificação."
   ]
  },
  {
   "cell_type": "markdown",
   "id": "a53f433a",
   "metadata": {},
   "source": [
    "O codificador de rótulos consegue lidar somente com uma coluna de cada vez:"
   ]
  },
  {
   "cell_type": "code",
   "execution_count": 16,
   "id": "bf0a5909",
   "metadata": {},
   "outputs": [
    {
     "data": {
      "text/plain": [
       "array([0, 1])"
      ]
     },
     "execution_count": 16,
     "metadata": {},
     "output_type": "execute_result"
    }
   ],
   "source": [
    "from sklearn import preprocessing\n",
    "lab = preprocessing.LabelEncoder()\n",
    "lab.fit_transform(X_cat.name)"
   ]
  },
  {
   "cell_type": "markdown",
   "id": "5a731a4a",
   "metadata": {},
   "source": [
    "Se tiver valores modificados, aplique o método \".inverse_transform\" para decodificá-los:"
   ]
  },
  {
   "cell_type": "code",
   "execution_count": 17,
   "id": "cdefa781",
   "metadata": {},
   "outputs": [
    {
     "data": {
      "text/plain": [
       "array(['Paul', 'Paul', 'George'], dtype=object)"
      ]
     },
     "execution_count": 17,
     "metadata": {},
     "output_type": "execute_result"
    }
   ],
   "source": [
    "lab.inverse_transform([1, 1, 0])"
   ]
  },
  {
   "cell_type": "markdown",
   "id": "91d48e14",
   "metadata": {},
   "source": [
    "O pandas também pode ser usado para uma codificação de rótulos. Inicialmente, deve converter a coluna em um tipo para categorias e, em seguida, extrair daí o código numérico:\n",
    "O código a seguir criará uma nova série de dados numéricos a partir de uma série do pandas. Usaremos o método \".as_ordered\" para garantir que a categoria esteja ordenada:"
   ]
  },
  {
   "cell_type": "code",
   "execution_count": 18,
   "id": "5fbc6842",
   "metadata": {},
   "outputs": [
    {
     "data": {
      "text/plain": [
       "0    1\n",
       "1    2\n",
       "dtype: int8"
      ]
     },
     "execution_count": 18,
     "metadata": {},
     "output_type": "execute_result"
    }
   ],
   "source": [
    "X_cat.name.astype(\n",
    "    \"category\"\n",
    ").cat.as_ordered().cat.codes + 1"
   ]
  },
  {
   "cell_type": "markdown",
   "id": "8648cdd8",
   "metadata": {},
   "source": [
    "### Codificação de frequência \n",
    "\n",
    "Outra opção para lidar com dados de categoria com alta cardinalidade é a codificação de frequência (frequency encoding). Isso significa substituir o nome da categoria pelo contador que ela tinha nos dados de treinamento. Será usado o pandas para essa tarefa.\n",
    "Inicialmente, será utilizado o método \".value_counts\" do pandas para fazer um mapeamento (uma série do pandas que mapeia strings e contadores). Com o mapeamento, podemos usar o método \".map\" para fazer a codificação:"
   ]
  },
  {
   "cell_type": "code",
   "execution_count": 19,
   "id": "a9ca4467",
   "metadata": {},
   "outputs": [
    {
     "data": {
      "text/plain": [
       "0    1\n",
       "1    1\n",
       "Name: name, dtype: int64"
      ]
     },
     "execution_count": 19,
     "metadata": {},
     "output_type": "execute_result"
    }
   ],
   "source": [
    "mapping = X_cat.name.value_counts()\n",
    "X_cat.name.map(mapping)"
   ]
  },
  {
   "cell_type": "markdown",
   "id": "ae689a11",
   "metadata": {},
   "source": [
    "Não esquecer de armazenar o mapeamento dos dados de treinamento para que seja possível codificar dados futuros com os mesmos dados."
   ]
  },
  {
   "cell_type": "markdown",
   "id": "47fdad05",
   "metadata": {},
   "source": [
    "### Extraindo categorias a partir de strings\n",
    "\n",
    "Uma forma de aumentar a precisão do modelo de dados do Titanic é extrair os títulos dos nomes. Um truque rápido para encontrar as trincas mais comuns é usar a classe Counter:"
   ]
  },
  {
   "cell_type": "code",
   "execution_count": 20,
   "id": "71518a0e",
   "metadata": {},
   "outputs": [],
   "source": [
    "# Caminho em Pasta\n",
    "path = \"datasets/titanic/titanic3.xls\"\n",
    "df = pd.read_excel(path)"
   ]
  },
  {
   "cell_type": "code",
   "execution_count": 21,
   "id": "3e5cab34",
   "metadata": {},
   "outputs": [
    {
     "data": {
      "text/plain": [
       "[(', M', 1282),\n",
       " (' Mr', 954),\n",
       " ('r. ', 830),\n",
       " ('Mr.', 757),\n",
       " ('s. ', 460),\n",
       " ('n, ', 320),\n",
       " (' Mi', 283),\n",
       " ('iss', 261),\n",
       " ('ss.', 261),\n",
       " ('Mis', 260)]"
      ]
     },
     "execution_count": 21,
     "metadata": {},
     "output_type": "execute_result"
    }
   ],
   "source": [
    "from collections import Counter\n",
    "c = Counter()\n",
    "def triples(val):\n",
    "    for i in range(len(val)):\n",
    "        c[val[i : i + 3]] += 1\n",
    "df.name.apply(triples)\n",
    "c.most_common(10)"
   ]
  },
  {
   "cell_type": "markdown",
   "id": "d96e1b82",
   "metadata": {},
   "source": [
    "Podemos ver que \"Mr.\" e \"Miss\" são muito comuns.\n",
    "Outra opção é usar uma expressão regular para extrair a letra maiúscula seguida de letras minúsculas e um ponto:"
   ]
  },
  {
   "cell_type": "code",
   "execution_count": 22,
   "id": "b6d36fd0",
   "metadata": {},
   "outputs": [
    {
     "name": "stderr",
     "output_type": "stream",
     "text": [
      "<>:2: DeprecationWarning: invalid escape sequence \\.\n",
      "<>:2: DeprecationWarning: invalid escape sequence \\.\n",
      "/tmp/ipykernel_12124/178673788.py:2: DeprecationWarning: invalid escape sequence \\.\n",
      "  \"([A-Za-z]+)\\.\", expand=False\n"
     ]
    },
    {
     "data": {
      "text/plain": [
       "0      Miss\n",
       "1    Master\n",
       "2      Miss\n",
       "3        Mr\n",
       "4       Mrs\n",
       "Name: name, dtype: object"
      ]
     },
     "execution_count": 22,
     "metadata": {},
     "output_type": "execute_result"
    }
   ],
   "source": [
    "df.name.str.extract(\n",
    "    \"([A-Za-z]+)\\.\", expand=False\n",
    ").head()"
   ]
  },
  {
   "cell_type": "markdown",
   "id": "3452c32f",
   "metadata": {},
   "source": [
    "Podemos usar \".value_counts\" para ver a frequência desses títulos:"
   ]
  },
  {
   "cell_type": "code",
   "execution_count": 23,
   "id": "8d2b3251",
   "metadata": {},
   "outputs": [
    {
     "name": "stderr",
     "output_type": "stream",
     "text": [
      "<>:2: DeprecationWarning: invalid escape sequence \\.\n",
      "<>:2: DeprecationWarning: invalid escape sequence \\.\n",
      "/tmp/ipykernel_12124/532577061.py:2: DeprecationWarning: invalid escape sequence \\.\n",
      "  \"([A-Za-z]+)\\.\", expand=False\n"
     ]
    },
    {
     "data": {
      "text/plain": [
       "Mr          757\n",
       "Miss        260\n",
       "Mrs         197\n",
       "Master       61\n",
       "Rev           8\n",
       "Dr            8\n",
       "Col           4\n",
       "Mlle          2\n",
       "Ms            2\n",
       "Major         2\n",
       "Capt          1\n",
       "Sir           1\n",
       "Dona          1\n",
       "Jonkheer      1\n",
       "Countess      1\n",
       "Don           1\n",
       "Mme           1\n",
       "Lady          1\n",
       "Name: name, dtype: int64"
      ]
     },
     "execution_count": 23,
     "metadata": {},
     "output_type": "execute_result"
    }
   ],
   "source": [
    "df.name.str.extract(\n",
    "    \"([A-Za-z]+)\\.\", expand=False\n",
    ").value_counts()"
   ]
  },
  {
   "cell_type": "markdown",
   "id": "88cf4695",
   "metadata": {},
   "source": [
    "Ao usar essas manipulações e o pandas, pode criar variáveis dummy ou combinar colunas com contadores baixos em outras categorias (ou descartá-las)."
   ]
  },
  {
   "cell_type": "markdown",
   "id": "4d28d5a6",
   "metadata": {},
   "source": [
    "### Outras codificações de categoria\n",
    "\n",
    "A biblioteca categorical_encoding é um conjunto de transformadores do scikit-learn, usados para converter dados de categorias em dados numéricos. Um bom recurso dessa biblioteca é que ela gera DataFrames do pandas (de modo diferente do scikit-learn, que transforma os dados em arrays numpy).\n",
    "\n",
    "Um algoritmo implementado nessa biblioteca é um codificador de hashes. É útil caso não saiba com antecedência quantas categorias há, ou se estiver usando um conjunto de palavras para representar texto. O algoritmo gerará hash de colunas de categorias em n_components. Se estiver usando online learning (aprendizado online), isto é, modelos que podem ser atualizados, esse recurso poderá ser muito conveniente."
   ]
  },
  {
   "cell_type": "code",
   "execution_count": 24,
   "id": "675d051a",
   "metadata": {},
   "outputs": [],
   "source": [
    "#!pip install category_encoders"
   ]
  },
  {
   "cell_type": "code",
   "execution_count": 25,
   "id": "c9a685db",
   "metadata": {},
   "outputs": [
    {
     "data": {
      "text/html": [
       "<div>\n",
       "<style scoped>\n",
       "    .dataframe tbody tr th:only-of-type {\n",
       "        vertical-align: middle;\n",
       "    }\n",
       "\n",
       "    .dataframe tbody tr th {\n",
       "        vertical-align: top;\n",
       "    }\n",
       "\n",
       "    .dataframe thead th {\n",
       "        text-align: right;\n",
       "    }\n",
       "</style>\n",
       "<table border=\"1\" class=\"dataframe\">\n",
       "  <thead>\n",
       "    <tr style=\"text-align: right;\">\n",
       "      <th></th>\n",
       "      <th>col_0</th>\n",
       "      <th>col_1</th>\n",
       "      <th>col_2</th>\n",
       "      <th>col_3</th>\n",
       "      <th>col_4</th>\n",
       "      <th>col_5</th>\n",
       "      <th>col_6</th>\n",
       "      <th>col_7</th>\n",
       "    </tr>\n",
       "  </thead>\n",
       "  <tbody>\n",
       "    <tr>\n",
       "      <th>0</th>\n",
       "      <td>0</td>\n",
       "      <td>0</td>\n",
       "      <td>0</td>\n",
       "      <td>1</td>\n",
       "      <td>0</td>\n",
       "      <td>1</td>\n",
       "      <td>0</td>\n",
       "      <td>0</td>\n",
       "    </tr>\n",
       "    <tr>\n",
       "      <th>1</th>\n",
       "      <td>0</td>\n",
       "      <td>2</td>\n",
       "      <td>0</td>\n",
       "      <td>0</td>\n",
       "      <td>0</td>\n",
       "      <td>0</td>\n",
       "      <td>0</td>\n",
       "      <td>0</td>\n",
       "    </tr>\n",
       "  </tbody>\n",
       "</table>\n",
       "</div>"
      ],
      "text/plain": [
       "   col_0  col_1  col_2  col_3  col_4  col_5  col_6  col_7\n",
       "0      0      0      0      1      0      1      0      0\n",
       "1      0      2      0      0      0      0      0      0"
      ]
     },
     "execution_count": 25,
     "metadata": {},
     "output_type": "execute_result"
    }
   ],
   "source": [
    "import category_encoders as ce\n",
    "he = ce.HashingEncoder(verbose=1)\n",
    "he.fit_transform(X_cat)"
   ]
  },
  {
   "cell_type": "markdown",
   "id": "8536e917",
   "metadata": {},
   "source": [
    "O codificador de ordinais(ordinal encoder) pode converter colunas de categorias que tenham uma ordem em uma única coluna de números. Em nosso exemplo, converteremos a coluna de tamanho (size) em númneros ordinais. Se houver um valor ausente no dicionário de mapeamento, um valor default igual a -1 será usado:"
   ]
  },
  {
   "cell_type": "code",
   "execution_count": 26,
   "id": "392f25fa",
   "metadata": {},
   "outputs": [
    {
     "data": {
      "text/html": [
       "<div>\n",
       "<style scoped>\n",
       "    .dataframe tbody tr th:only-of-type {\n",
       "        vertical-align: middle;\n",
       "    }\n",
       "\n",
       "    .dataframe tbody tr th {\n",
       "        vertical-align: top;\n",
       "    }\n",
       "\n",
       "    .dataframe thead th {\n",
       "        text-align: right;\n",
       "    }\n",
       "</style>\n",
       "<table border=\"1\" class=\"dataframe\">\n",
       "  <thead>\n",
       "    <tr style=\"text-align: right;\">\n",
       "      <th></th>\n",
       "      <th>name</th>\n",
       "      <th>size</th>\n",
       "    </tr>\n",
       "  </thead>\n",
       "  <tbody>\n",
       "    <tr>\n",
       "      <th>0</th>\n",
       "      <td>Fred</td>\n",
       "      <td>1.0</td>\n",
       "    </tr>\n",
       "    <tr>\n",
       "      <th>1</th>\n",
       "      <td>John</td>\n",
       "      <td>2.0</td>\n",
       "    </tr>\n",
       "    <tr>\n",
       "      <th>2</th>\n",
       "      <td>Matt</td>\n",
       "      <td>-1.0</td>\n",
       "    </tr>\n",
       "  </tbody>\n",
       "</table>\n",
       "</div>"
      ],
      "text/plain": [
       "   name  size\n",
       "0  Fred   1.0\n",
       "1  John   2.0\n",
       "2  Matt  -1.0"
      ]
     },
     "execution_count": 26,
     "metadata": {},
     "output_type": "execute_result"
    }
   ],
   "source": [
    "size_df = pd.DataFrame(\n",
    "    {\n",
    "        \"name\": [\"Fred\", \"John\", \"Matt\"],\n",
    "        \"size\": [\"small\", \"med\", \"xxl\"]\n",
    "    }\n",
    ")\n",
    "\n",
    "ore = ce.OrdinalEncoder(\n",
    "    mapping=[\n",
    "        {\n",
    "            \"col\":\"size\",\n",
    "            \"mapping\":{\n",
    "                \"small\": 1,\n",
    "                \"med\": 2,\n",
    "                \"lg\": 3,\n",
    "            },\n",
    "        }\n",
    "    ]\n",
    ")\n",
    "\n",
    "ore.fit_transform(size_df)"
   ]
  },
  {
   "cell_type": "markdown",
   "id": "5cce5718",
   "metadata": {},
   "source": [
    "A referência em \"https://oreil.ly/JUtYh\" explica vários algoritmos que estão na biblioteca categorical_encoding.\n",
    "\n",
    "Se tiver dados com alta cardinalidade (um número grande de valores únicos), considere usar um dos codificadores bayseianos (Bayesian encoders) que geram uma única coluna por coluna de categoria. São eles: \"TargetEncoder\", \"LeaveOneOutEncoder\", \"WQEncoder\", \"JamesSteinEncoder\" e \"MEstimateEncoder\".\n",
    "    \n",
    "Por exemplo, para converter a coluna survived (sobrevivência) dos dados do Titanic em uma combinação da probabilidade posterior do alvo com a probabilidade anterior dada a informação de título (dado de categoria), utilize o código a seguir:\n",
    "    \n"
   ]
  },
  {
   "cell_type": "code",
   "execution_count": 27,
   "id": "bcdbc529",
   "metadata": {},
   "outputs": [
    {
     "name": "stderr",
     "output_type": "stream",
     "text": [
      "<>:3: DeprecationWarning: invalid escape sequence \\.\n",
      "<>:3: DeprecationWarning: invalid escape sequence \\.\n",
      "/tmp/ipykernel_12124/1773409615.py:3: DeprecationWarning: invalid escape sequence \\.\n",
      "  \"([A-Za-z]+)\\.\", expand=False\n"
     ]
    },
    {
     "data": {
      "text/plain": [
       "0    0.676923\n",
       "1    0.506139\n",
       "2    0.676923\n",
       "3    0.162483\n",
       "4    0.786802\n",
       "Name: Title, dtype: float64"
      ]
     },
     "execution_count": 27,
     "metadata": {},
     "output_type": "execute_result"
    }
   ],
   "source": [
    "def get_title(df):\n",
    "    return df.name.str.extract(\n",
    "        \"([A-Za-z]+)\\.\", expand=False\n",
    "    )\n",
    "\n",
    "te = ce.TargetEncoder(cols=\"Title\")\n",
    "te.fit_transform(\n",
    "    df.assign(Title=get_title), df.survived\n",
    ")[\"Title\"].head()"
   ]
  },
  {
   "cell_type": "markdown",
   "id": "52549da3",
   "metadata": {},
   "source": [
    "### Engenharia de dados para datas\n",
    "\n",
    "A biblioteca fastai tem uma função \"add_datepart\", que gerará colunas com atributos de data com base em uma coluna de data e hora. Isso é conveniente, pois a maioria dos algoritmos de machine learning não é capaz de inferir esse tipo de sinal a partir da representação numérica de uma data:"
   ]
  },
  {
   "cell_type": "code",
   "execution_count": 28,
   "id": "b984ad02",
   "metadata": {},
   "outputs": [],
   "source": [
    "#!pip install fastai"
   ]
  },
  {
   "cell_type": "code",
   "execution_count": 29,
   "id": "c2e2b082",
   "metadata": {},
   "outputs": [
    {
     "name": "stderr",
     "output_type": "stream",
     "text": [
      "/home/luciano/anaconda3/lib/python3.9/site-packages/tables/__init__.py:24: DeprecationWarning: `np.typeDict` is a deprecated alias for `np.sctypeDict`.\n",
      "  from .utilsextension import (\n",
      "/home/luciano/anaconda3/lib/python3.9/site-packages/tables/__init__.py:24: DeprecationWarning: `np.typeDict` is a deprecated alias for `np.sctypeDict`.\n",
      "  from .utilsextension import (\n",
      "/home/luciano/anaconda3/lib/python3.9/site-packages/tables/req_versions.py:20: DeprecationWarning: distutils Version classes are deprecated. Use packaging.version instead.\n",
      "  min_numpy_version = LooseVersion('1.9.3')\n",
      "/home/luciano/anaconda3/lib/python3.9/site-packages/tables/req_versions.py:21: DeprecationWarning: distutils Version classes are deprecated. Use packaging.version instead.\n",
      "  min_numexpr_version = LooseVersion('2.6.2')\n",
      "/home/luciano/anaconda3/lib/python3.9/site-packages/tables/req_versions.py:22: DeprecationWarning: distutils Version classes are deprecated. Use packaging.version instead.\n",
      "  min_hdf5_version = LooseVersion('1.8.4')\n",
      "/home/luciano/anaconda3/lib/python3.9/site-packages/tables/req_versions.py:23: DeprecationWarning: distutils Version classes are deprecated. Use packaging.version instead.\n",
      "  min_blosc_version = LooseVersion(\"1.4.1\")\n",
      "/home/luciano/anaconda3/lib/python3.9/site-packages/tables/req_versions.py:24: DeprecationWarning: distutils Version classes are deprecated. Use packaging.version instead.\n",
      "  min_blosc_bitshuffle_version = LooseVersion(\"1.8.0\")\n",
      "/home/luciano/anaconda3/lib/python3.9/site-packages/tables/filters.py:27: DeprecationWarning: distutils Version classes are deprecated. Use packaging.version instead.\n",
      "  blosc_version = LooseVersion(tables.which_lib_version(\"blosc\")[1])\n",
      "/home/luciano/anaconda3/lib/python3.9/site-packages/tables/tests/common.py:36: DeprecationWarning: distutils Version classes are deprecated. Use packaging.version instead.\n",
      "  hdf5_version = LooseVersion(tables.hdf5_version)\n",
      "/home/luciano/anaconda3/lib/python3.9/site-packages/tables/tests/common.py:37: DeprecationWarning: distutils Version classes are deprecated. Use packaging.version instead.\n",
      "  blosc_version = LooseVersion(tables.which_lib_version(\"blosc\")[1])\n"
     ]
    },
    {
     "data": {
      "text/html": [
       "<div>\n",
       "<style scoped>\n",
       "    .dataframe tbody tr th:only-of-type {\n",
       "        vertical-align: middle;\n",
       "    }\n",
       "\n",
       "    .dataframe tbody tr th {\n",
       "        vertical-align: top;\n",
       "    }\n",
       "\n",
       "    .dataframe thead th {\n",
       "        text-align: right;\n",
       "    }\n",
       "</style>\n",
       "<table border=\"1\" class=\"dataframe\">\n",
       "  <thead>\n",
       "    <tr style=\"text-align: right;\">\n",
       "      <th></th>\n",
       "      <th>0</th>\n",
       "      <th>1</th>\n",
       "    </tr>\n",
       "  </thead>\n",
       "  <tbody>\n",
       "    <tr>\n",
       "      <th>AYear</th>\n",
       "      <td>2001</td>\n",
       "      <td>2002</td>\n",
       "    </tr>\n",
       "    <tr>\n",
       "      <th>AMonth</th>\n",
       "      <td>9</td>\n",
       "      <td>1</td>\n",
       "    </tr>\n",
       "    <tr>\n",
       "      <th>AWeek</th>\n",
       "      <td>38</td>\n",
       "      <td>1</td>\n",
       "    </tr>\n",
       "    <tr>\n",
       "      <th>ADay</th>\n",
       "      <td>17</td>\n",
       "      <td>1</td>\n",
       "    </tr>\n",
       "    <tr>\n",
       "      <th>ADayofweek</th>\n",
       "      <td>0</td>\n",
       "      <td>1</td>\n",
       "    </tr>\n",
       "    <tr>\n",
       "      <th>ADayofyear</th>\n",
       "      <td>260</td>\n",
       "      <td>1</td>\n",
       "    </tr>\n",
       "    <tr>\n",
       "      <th>AIs_month_end</th>\n",
       "      <td>False</td>\n",
       "      <td>False</td>\n",
       "    </tr>\n",
       "    <tr>\n",
       "      <th>AIs_month_start</th>\n",
       "      <td>False</td>\n",
       "      <td>True</td>\n",
       "    </tr>\n",
       "    <tr>\n",
       "      <th>AIs_quarter_end</th>\n",
       "      <td>False</td>\n",
       "      <td>False</td>\n",
       "    </tr>\n",
       "    <tr>\n",
       "      <th>AIs_quarter_start</th>\n",
       "      <td>False</td>\n",
       "      <td>True</td>\n",
       "    </tr>\n",
       "    <tr>\n",
       "      <th>AIs_year_end</th>\n",
       "      <td>False</td>\n",
       "      <td>False</td>\n",
       "    </tr>\n",
       "    <tr>\n",
       "      <th>AIs_year_start</th>\n",
       "      <td>False</td>\n",
       "      <td>True</td>\n",
       "    </tr>\n",
       "    <tr>\n",
       "      <th>AElapsed</th>\n",
       "      <td>1000684800.0</td>\n",
       "      <td>1009843200.0</td>\n",
       "    </tr>\n",
       "  </tbody>\n",
       "</table>\n",
       "</div>"
      ],
      "text/plain": [
       "                              0             1\n",
       "AYear                      2001          2002\n",
       "AMonth                        9             1\n",
       "AWeek                        38             1\n",
       "ADay                         17             1\n",
       "ADayofweek                    0             1\n",
       "ADayofyear                  260             1\n",
       "AIs_month_end             False         False\n",
       "AIs_month_start           False          True\n",
       "AIs_quarter_end           False         False\n",
       "AIs_quarter_start         False          True\n",
       "AIs_year_end              False         False\n",
       "AIs_year_start            False          True\n",
       "AElapsed           1000684800.0  1009843200.0"
      ]
     },
     "execution_count": 29,
     "metadata": {},
     "output_type": "execute_result"
    }
   ],
   "source": [
    "from fastai.tabular.core import(\n",
    "    add_datepart,\n",
    ")\n",
    "\n",
    "dates = pd.DataFrame(\n",
    "    {\n",
    "        \"A\":pd.to_datetime(\n",
    "            [\"9/17/2001\", \"Jan, 1, 2002\"]\n",
    "        )\n",
    "    }\n",
    ")\n",
    "\n",
    "add_datepart(dates, \"A\")\n",
    "dates.T"
   ]
  },
  {
   "cell_type": "markdown",
   "id": "7c4e7f79",
   "metadata": {},
   "source": [
    "O add_datepart altera o DataFrame, algo que o pandas pode fazer, mas, em geral, não faz!"
   ]
  },
  {
   "cell_type": "markdown",
   "id": "8c024a8d",
   "metadata": {},
   "source": [
    "### Adição do atributo col_na\n",
    "\n",
    "A biblioteca fastai costumava ter uma função para criar uma coluna para preenchimento de um valor ausente (com mediana) e indicar que um valor estava ausente. Saber que um valor estava ausente poderia ser usado como uma informação. Eis uma cópia da função e um exemplo de sua utilização:"
   ]
  },
  {
   "cell_type": "code",
   "execution_count": 30,
   "id": "817711c2",
   "metadata": {},
   "outputs": [
    {
     "data": {
      "text/plain": [
       "{'A': 5.0}"
      ]
     },
     "execution_count": 30,
     "metadata": {},
     "output_type": "execute_result"
    }
   ],
   "source": [
    "from pandas.api.types import is_numeric_dtype\n",
    "def fix_missing(df, col, name, na_dict):\n",
    "    if is_numeric_dtype(col):\n",
    "        if pd.isnull(col).sum() or (name in na_dict):\n",
    "            df[name + \"_na\"] = pd.isnull(col)\n",
    "            filler = (\n",
    "                na_dict[name]\n",
    "                if name in na_dict\n",
    "                else col.median()\n",
    "            )\n",
    "            df[name] = col.fillna(filler)\n",
    "            na_dict[name] = filler\n",
    "    return na_dict\n",
    "data = pd.DataFrame({\"A\": [0, None, 5, 100]})\n",
    "fix_missing(data, data.A, \"A\", {})"
   ]
  },
  {
   "cell_type": "code",
   "execution_count": 31,
   "id": "8511b48f",
   "metadata": {},
   "outputs": [
    {
     "data": {
      "text/html": [
       "<div>\n",
       "<style scoped>\n",
       "    .dataframe tbody tr th:only-of-type {\n",
       "        vertical-align: middle;\n",
       "    }\n",
       "\n",
       "    .dataframe tbody tr th {\n",
       "        vertical-align: top;\n",
       "    }\n",
       "\n",
       "    .dataframe thead th {\n",
       "        text-align: right;\n",
       "    }\n",
       "</style>\n",
       "<table border=\"1\" class=\"dataframe\">\n",
       "  <thead>\n",
       "    <tr style=\"text-align: right;\">\n",
       "      <th></th>\n",
       "      <th>A</th>\n",
       "      <th>A_na</th>\n",
       "    </tr>\n",
       "  </thead>\n",
       "  <tbody>\n",
       "    <tr>\n",
       "      <th>0</th>\n",
       "      <td>0.0</td>\n",
       "      <td>False</td>\n",
       "    </tr>\n",
       "    <tr>\n",
       "      <th>1</th>\n",
       "      <td>5.0</td>\n",
       "      <td>True</td>\n",
       "    </tr>\n",
       "    <tr>\n",
       "      <th>2</th>\n",
       "      <td>5.0</td>\n",
       "      <td>False</td>\n",
       "    </tr>\n",
       "    <tr>\n",
       "      <th>3</th>\n",
       "      <td>100.0</td>\n",
       "      <td>False</td>\n",
       "    </tr>\n",
       "  </tbody>\n",
       "</table>\n",
       "</div>"
      ],
      "text/plain": [
       "       A   A_na\n",
       "0    0.0  False\n",
       "1    5.0   True\n",
       "2    5.0  False\n",
       "3  100.0  False"
      ]
     },
     "execution_count": 31,
     "metadata": {},
     "output_type": "execute_result"
    }
   ],
   "source": [
    "data"
   ]
  },
  {
   "cell_type": "markdown",
   "id": "4cdf054c",
   "metadata": {},
   "source": [
    "A seguir, apresentamos uma versão com o pandas:"
   ]
  },
  {
   "cell_type": "code",
   "execution_count": 32,
   "id": "e25bdc77",
   "metadata": {},
   "outputs": [],
   "source": [
    "data = pd.DataFrame({\"A\": [0, None, 5, 100]})\n",
    "data[\"A_na\"] = data.A.isnull()\n",
    "data[\"A\"] = data.A.fillna(data.A.median())"
   ]
  },
  {
   "cell_type": "code",
   "execution_count": 33,
   "id": "b97c4cd2",
   "metadata": {},
   "outputs": [
    {
     "data": {
      "text/html": [
       "<div>\n",
       "<style scoped>\n",
       "    .dataframe tbody tr th:only-of-type {\n",
       "        vertical-align: middle;\n",
       "    }\n",
       "\n",
       "    .dataframe tbody tr th {\n",
       "        vertical-align: top;\n",
       "    }\n",
       "\n",
       "    .dataframe thead th {\n",
       "        text-align: right;\n",
       "    }\n",
       "</style>\n",
       "<table border=\"1\" class=\"dataframe\">\n",
       "  <thead>\n",
       "    <tr style=\"text-align: right;\">\n",
       "      <th></th>\n",
       "      <th>A</th>\n",
       "      <th>A_na</th>\n",
       "    </tr>\n",
       "  </thead>\n",
       "  <tbody>\n",
       "    <tr>\n",
       "      <th>0</th>\n",
       "      <td>0.0</td>\n",
       "      <td>False</td>\n",
       "    </tr>\n",
       "    <tr>\n",
       "      <th>1</th>\n",
       "      <td>5.0</td>\n",
       "      <td>True</td>\n",
       "    </tr>\n",
       "    <tr>\n",
       "      <th>2</th>\n",
       "      <td>5.0</td>\n",
       "      <td>False</td>\n",
       "    </tr>\n",
       "    <tr>\n",
       "      <th>3</th>\n",
       "      <td>100.0</td>\n",
       "      <td>False</td>\n",
       "    </tr>\n",
       "  </tbody>\n",
       "</table>\n",
       "</div>"
      ],
      "text/plain": [
       "       A   A_na\n",
       "0    0.0  False\n",
       "1    5.0   True\n",
       "2    5.0  False\n",
       "3  100.0  False"
      ]
     },
     "execution_count": 33,
     "metadata": {},
     "output_type": "execute_result"
    }
   ],
   "source": [
    "data"
   ]
  },
  {
   "cell_type": "markdown",
   "id": "c2dd962c",
   "metadata": {},
   "source": [
    "### Engenharia de dados manual\n",
    "\n",
    "O pandas pode ser usado para gerar novos atributos. Para o conjunto de dados do Titanic, podemos agregar dados de cabine(idade máxima por cabine, idade média por cabine etc). Para obter dados agregados por cabine, utilize o método \".groupby\" do pandas para criá-los. Em seguida, alinhe-os com os dados originais usando o método \".merge\""
   ]
  },
  {
   "cell_type": "code",
   "execution_count": 34,
   "id": "2292b08c",
   "metadata": {},
   "outputs": [
    {
     "name": "stderr",
     "output_type": "stream",
     "text": [
      "/tmp/ipykernel_12124/3089466328.py:2: FutureWarning: ['name', 'sex', 'ticket', 'embarked', 'boat', 'home.dest'] did not aggregate successfully. If any error is raised this will raise in a future version of pandas. Drop these columns/ops to avoid this warning.\n",
      "  df.groupby(\"cabin\")\n"
     ]
    }
   ],
   "source": [
    "agg = (\n",
    "    df.groupby(\"cabin\")\n",
    "    .agg(\"min,max,mean,sum\".split(\",\"))\n",
    "    .reset_index()\n",
    ")\n",
    "\n",
    "agg.columns = [ \n",
    "    \"_\".join(c).strip(\"_\")\n",
    "    for c in agg.columns.values\n",
    "]\n",
    "agg_df = df.merge(agg, on=\"cabin\")"
   ]
  },
  {
   "cell_type": "code",
   "execution_count": 35,
   "id": "fc60d859",
   "metadata": {},
   "outputs": [
    {
     "data": {
      "text/html": [
       "<div>\n",
       "<style scoped>\n",
       "    .dataframe tbody tr th:only-of-type {\n",
       "        vertical-align: middle;\n",
       "    }\n",
       "\n",
       "    .dataframe tbody tr th {\n",
       "        vertical-align: top;\n",
       "    }\n",
       "\n",
       "    .dataframe thead th {\n",
       "        text-align: right;\n",
       "    }\n",
       "</style>\n",
       "<table border=\"1\" class=\"dataframe\">\n",
       "  <thead>\n",
       "    <tr style=\"text-align: right;\">\n",
       "      <th></th>\n",
       "      <th>pclass</th>\n",
       "      <th>survived</th>\n",
       "      <th>name</th>\n",
       "      <th>sex</th>\n",
       "      <th>age</th>\n",
       "      <th>sibsp</th>\n",
       "      <th>parch</th>\n",
       "      <th>ticket</th>\n",
       "      <th>fare</th>\n",
       "      <th>cabin</th>\n",
       "      <th>...</th>\n",
       "      <th>parch_mean</th>\n",
       "      <th>parch_sum</th>\n",
       "      <th>fare_min</th>\n",
       "      <th>fare_max</th>\n",
       "      <th>fare_mean</th>\n",
       "      <th>fare_sum</th>\n",
       "      <th>body_min</th>\n",
       "      <th>body_max</th>\n",
       "      <th>body_mean</th>\n",
       "      <th>body_sum</th>\n",
       "    </tr>\n",
       "  </thead>\n",
       "  <tbody>\n",
       "    <tr>\n",
       "      <th>0</th>\n",
       "      <td>1</td>\n",
       "      <td>1</td>\n",
       "      <td>Allen, Miss. Elisabeth Walton</td>\n",
       "      <td>female</td>\n",
       "      <td>29.0000</td>\n",
       "      <td>0</td>\n",
       "      <td>0</td>\n",
       "      <td>24160</td>\n",
       "      <td>211.3375</td>\n",
       "      <td>B5</td>\n",
       "      <td>...</td>\n",
       "      <td>0.5</td>\n",
       "      <td>1</td>\n",
       "      <td>211.3375</td>\n",
       "      <td>211.3375</td>\n",
       "      <td>211.3375</td>\n",
       "      <td>422.675</td>\n",
       "      <td>NaN</td>\n",
       "      <td>NaN</td>\n",
       "      <td>NaN</td>\n",
       "      <td>0.0</td>\n",
       "    </tr>\n",
       "    <tr>\n",
       "      <th>1</th>\n",
       "      <td>1</td>\n",
       "      <td>1</td>\n",
       "      <td>Madill, Miss. Georgette Alexandra</td>\n",
       "      <td>female</td>\n",
       "      <td>15.0000</td>\n",
       "      <td>0</td>\n",
       "      <td>1</td>\n",
       "      <td>24160</td>\n",
       "      <td>211.3375</td>\n",
       "      <td>B5</td>\n",
       "      <td>...</td>\n",
       "      <td>0.5</td>\n",
       "      <td>1</td>\n",
       "      <td>211.3375</td>\n",
       "      <td>211.3375</td>\n",
       "      <td>211.3375</td>\n",
       "      <td>422.675</td>\n",
       "      <td>NaN</td>\n",
       "      <td>NaN</td>\n",
       "      <td>NaN</td>\n",
       "      <td>0.0</td>\n",
       "    </tr>\n",
       "    <tr>\n",
       "      <th>2</th>\n",
       "      <td>1</td>\n",
       "      <td>1</td>\n",
       "      <td>Allison, Master. Hudson Trevor</td>\n",
       "      <td>male</td>\n",
       "      <td>0.9167</td>\n",
       "      <td>1</td>\n",
       "      <td>2</td>\n",
       "      <td>113781</td>\n",
       "      <td>151.5500</td>\n",
       "      <td>C22 C26</td>\n",
       "      <td>...</td>\n",
       "      <td>2.0</td>\n",
       "      <td>8</td>\n",
       "      <td>151.5500</td>\n",
       "      <td>151.5500</td>\n",
       "      <td>151.5500</td>\n",
       "      <td>606.200</td>\n",
       "      <td>135.0</td>\n",
       "      <td>135.0</td>\n",
       "      <td>135.0</td>\n",
       "      <td>135.0</td>\n",
       "    </tr>\n",
       "    <tr>\n",
       "      <th>3</th>\n",
       "      <td>1</td>\n",
       "      <td>0</td>\n",
       "      <td>Allison, Miss. Helen Loraine</td>\n",
       "      <td>female</td>\n",
       "      <td>2.0000</td>\n",
       "      <td>1</td>\n",
       "      <td>2</td>\n",
       "      <td>113781</td>\n",
       "      <td>151.5500</td>\n",
       "      <td>C22 C26</td>\n",
       "      <td>...</td>\n",
       "      <td>2.0</td>\n",
       "      <td>8</td>\n",
       "      <td>151.5500</td>\n",
       "      <td>151.5500</td>\n",
       "      <td>151.5500</td>\n",
       "      <td>606.200</td>\n",
       "      <td>135.0</td>\n",
       "      <td>135.0</td>\n",
       "      <td>135.0</td>\n",
       "      <td>135.0</td>\n",
       "    </tr>\n",
       "    <tr>\n",
       "      <th>4</th>\n",
       "      <td>1</td>\n",
       "      <td>0</td>\n",
       "      <td>Allison, Mr. Hudson Joshua Creighton</td>\n",
       "      <td>male</td>\n",
       "      <td>30.0000</td>\n",
       "      <td>1</td>\n",
       "      <td>2</td>\n",
       "      <td>113781</td>\n",
       "      <td>151.5500</td>\n",
       "      <td>C22 C26</td>\n",
       "      <td>...</td>\n",
       "      <td>2.0</td>\n",
       "      <td>8</td>\n",
       "      <td>151.5500</td>\n",
       "      <td>151.5500</td>\n",
       "      <td>151.5500</td>\n",
       "      <td>606.200</td>\n",
       "      <td>135.0</td>\n",
       "      <td>135.0</td>\n",
       "      <td>135.0</td>\n",
       "      <td>135.0</td>\n",
       "    </tr>\n",
       "    <tr>\n",
       "      <th>...</th>\n",
       "      <td>...</td>\n",
       "      <td>...</td>\n",
       "      <td>...</td>\n",
       "      <td>...</td>\n",
       "      <td>...</td>\n",
       "      <td>...</td>\n",
       "      <td>...</td>\n",
       "      <td>...</td>\n",
       "      <td>...</td>\n",
       "      <td>...</td>\n",
       "      <td>...</td>\n",
       "      <td>...</td>\n",
       "      <td>...</td>\n",
       "      <td>...</td>\n",
       "      <td>...</td>\n",
       "      <td>...</td>\n",
       "      <td>...</td>\n",
       "      <td>...</td>\n",
       "      <td>...</td>\n",
       "      <td>...</td>\n",
       "      <td>...</td>\n",
       "    </tr>\n",
       "    <tr>\n",
       "      <th>290</th>\n",
       "      <td>3</td>\n",
       "      <td>1</td>\n",
       "      <td>Sandstrom, Mrs. Hjalmar (Agnes Charlotta Bengtsson)</td>\n",
       "      <td>female</td>\n",
       "      <td>24.0000</td>\n",
       "      <td>0</td>\n",
       "      <td>2</td>\n",
       "      <td>PP 9549</td>\n",
       "      <td>16.7000</td>\n",
       "      <td>G6</td>\n",
       "      <td>...</td>\n",
       "      <td>1.2</td>\n",
       "      <td>6</td>\n",
       "      <td>10.4625</td>\n",
       "      <td>16.7000</td>\n",
       "      <td>14.2050</td>\n",
       "      <td>71.025</td>\n",
       "      <td>NaN</td>\n",
       "      <td>NaN</td>\n",
       "      <td>NaN</td>\n",
       "      <td>0.0</td>\n",
       "    </tr>\n",
       "    <tr>\n",
       "      <th>291</th>\n",
       "      <td>3</td>\n",
       "      <td>1</td>\n",
       "      <td>Sandstrom, Miss. Marguerite Rut</td>\n",
       "      <td>female</td>\n",
       "      <td>4.0000</td>\n",
       "      <td>1</td>\n",
       "      <td>1</td>\n",
       "      <td>PP 9549</td>\n",
       "      <td>16.7000</td>\n",
       "      <td>G6</td>\n",
       "      <td>...</td>\n",
       "      <td>1.2</td>\n",
       "      <td>6</td>\n",
       "      <td>10.4625</td>\n",
       "      <td>16.7000</td>\n",
       "      <td>14.2050</td>\n",
       "      <td>71.025</td>\n",
       "      <td>NaN</td>\n",
       "      <td>NaN</td>\n",
       "      <td>NaN</td>\n",
       "      <td>0.0</td>\n",
       "    </tr>\n",
       "    <tr>\n",
       "      <th>292</th>\n",
       "      <td>3</td>\n",
       "      <td>0</td>\n",
       "      <td>Strom, Miss. Telma Matilda</td>\n",
       "      <td>female</td>\n",
       "      <td>2.0000</td>\n",
       "      <td>0</td>\n",
       "      <td>1</td>\n",
       "      <td>347054</td>\n",
       "      <td>10.4625</td>\n",
       "      <td>G6</td>\n",
       "      <td>...</td>\n",
       "      <td>1.2</td>\n",
       "      <td>6</td>\n",
       "      <td>10.4625</td>\n",
       "      <td>16.7000</td>\n",
       "      <td>14.2050</td>\n",
       "      <td>71.025</td>\n",
       "      <td>NaN</td>\n",
       "      <td>NaN</td>\n",
       "      <td>NaN</td>\n",
       "      <td>0.0</td>\n",
       "    </tr>\n",
       "    <tr>\n",
       "      <th>293</th>\n",
       "      <td>3</td>\n",
       "      <td>0</td>\n",
       "      <td>Strom, Mrs. Wilhelm (Elna Matilda Persson)</td>\n",
       "      <td>female</td>\n",
       "      <td>29.0000</td>\n",
       "      <td>1</td>\n",
       "      <td>1</td>\n",
       "      <td>347054</td>\n",
       "      <td>10.4625</td>\n",
       "      <td>G6</td>\n",
       "      <td>...</td>\n",
       "      <td>1.2</td>\n",
       "      <td>6</td>\n",
       "      <td>10.4625</td>\n",
       "      <td>16.7000</td>\n",
       "      <td>14.2050</td>\n",
       "      <td>71.025</td>\n",
       "      <td>NaN</td>\n",
       "      <td>NaN</td>\n",
       "      <td>NaN</td>\n",
       "      <td>0.0</td>\n",
       "    </tr>\n",
       "    <tr>\n",
       "      <th>294</th>\n",
       "      <td>3</td>\n",
       "      <td>0</td>\n",
       "      <td>Tobin, Mr. Roger</td>\n",
       "      <td>male</td>\n",
       "      <td>NaN</td>\n",
       "      <td>0</td>\n",
       "      <td>0</td>\n",
       "      <td>383121</td>\n",
       "      <td>7.7500</td>\n",
       "      <td>F38</td>\n",
       "      <td>...</td>\n",
       "      <td>0.0</td>\n",
       "      <td>0</td>\n",
       "      <td>7.7500</td>\n",
       "      <td>7.7500</td>\n",
       "      <td>7.7500</td>\n",
       "      <td>7.750</td>\n",
       "      <td>NaN</td>\n",
       "      <td>NaN</td>\n",
       "      <td>NaN</td>\n",
       "      <td>0.0</td>\n",
       "    </tr>\n",
       "  </tbody>\n",
       "</table>\n",
       "<p>295 rows × 42 columns</p>\n",
       "</div>"
      ],
      "text/plain": [
       "     pclass  survived                                                 name  \\\n",
       "0         1         1                        Allen, Miss. Elisabeth Walton   \n",
       "1         1         1                    Madill, Miss. Georgette Alexandra   \n",
       "2         1         1                       Allison, Master. Hudson Trevor   \n",
       "3         1         0                         Allison, Miss. Helen Loraine   \n",
       "4         1         0                 Allison, Mr. Hudson Joshua Creighton   \n",
       "..      ...       ...                                                  ...   \n",
       "290       3         1  Sandstrom, Mrs. Hjalmar (Agnes Charlotta Bengtsson)   \n",
       "291       3         1                      Sandstrom, Miss. Marguerite Rut   \n",
       "292       3         0                           Strom, Miss. Telma Matilda   \n",
       "293       3         0           Strom, Mrs. Wilhelm (Elna Matilda Persson)   \n",
       "294       3         0                                     Tobin, Mr. Roger   \n",
       "\n",
       "        sex      age  sibsp  parch   ticket      fare    cabin  ...  \\\n",
       "0    female  29.0000      0      0    24160  211.3375       B5  ...   \n",
       "1    female  15.0000      0      1    24160  211.3375       B5  ...   \n",
       "2      male   0.9167      1      2   113781  151.5500  C22 C26  ...   \n",
       "3    female   2.0000      1      2   113781  151.5500  C22 C26  ...   \n",
       "4      male  30.0000      1      2   113781  151.5500  C22 C26  ...   \n",
       "..      ...      ...    ...    ...      ...       ...      ...  ...   \n",
       "290  female  24.0000      0      2  PP 9549   16.7000       G6  ...   \n",
       "291  female   4.0000      1      1  PP 9549   16.7000       G6  ...   \n",
       "292  female   2.0000      0      1   347054   10.4625       G6  ...   \n",
       "293  female  29.0000      1      1   347054   10.4625       G6  ...   \n",
       "294    male      NaN      0      0   383121    7.7500      F38  ...   \n",
       "\n",
       "    parch_mean parch_sum  fare_min  fare_max  fare_mean  fare_sum  body_min  \\\n",
       "0          0.5         1  211.3375  211.3375   211.3375   422.675       NaN   \n",
       "1          0.5         1  211.3375  211.3375   211.3375   422.675       NaN   \n",
       "2          2.0         8  151.5500  151.5500   151.5500   606.200     135.0   \n",
       "3          2.0         8  151.5500  151.5500   151.5500   606.200     135.0   \n",
       "4          2.0         8  151.5500  151.5500   151.5500   606.200     135.0   \n",
       "..         ...       ...       ...       ...        ...       ...       ...   \n",
       "290        1.2         6   10.4625   16.7000    14.2050    71.025       NaN   \n",
       "291        1.2         6   10.4625   16.7000    14.2050    71.025       NaN   \n",
       "292        1.2         6   10.4625   16.7000    14.2050    71.025       NaN   \n",
       "293        1.2         6   10.4625   16.7000    14.2050    71.025       NaN   \n",
       "294        0.0         0    7.7500    7.7500     7.7500     7.750       NaN   \n",
       "\n",
       "     body_max  body_mean  body_sum  \n",
       "0         NaN        NaN       0.0  \n",
       "1         NaN        NaN       0.0  \n",
       "2       135.0      135.0     135.0  \n",
       "3       135.0      135.0     135.0  \n",
       "4       135.0      135.0     135.0  \n",
       "..        ...        ...       ...  \n",
       "290       NaN        NaN       0.0  \n",
       "291       NaN        NaN       0.0  \n",
       "292       NaN        NaN       0.0  \n",
       "293       NaN        NaN       0.0  \n",
       "294       NaN        NaN       0.0  \n",
       "\n",
       "[295 rows x 42 columns]"
      ]
     },
     "execution_count": 35,
     "metadata": {},
     "output_type": "execute_result"
    }
   ],
   "source": [
    "agg_df"
   ]
  },
  {
   "cell_type": "code",
   "execution_count": null,
   "id": "1d7cde98",
   "metadata": {},
   "outputs": [],
   "source": [
    "Se quisesse calcular as colunas \"boas\" ou \"ruins\", poderia criar outra coluna que fosse a soma das colunas agregadas(ou usar outra )"
   ]
  }
 ],
 "metadata": {
  "kernelspec": {
   "display_name": "Python 3 (ipykernel)",
   "language": "python",
   "name": "python3"
  },
  "language_info": {
   "codemirror_mode": {
    "name": "ipython",
    "version": 3
   },
   "file_extension": ".py",
   "mimetype": "text/x-python",
   "name": "python",
   "nbconvert_exporter": "python",
   "pygments_lexer": "ipython3",
   "version": "3.9.13"
  }
 },
 "nbformat": 4,
 "nbformat_minor": 5
}
